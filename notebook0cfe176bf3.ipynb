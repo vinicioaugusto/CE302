{
  "metadata": {
    "kernelspec": {
      "language": "python",
      "display_name": "Python 3",
      "name": "python3"
    },
    "language_info": {
      "pygments_lexer": "ipython3",
      "nbconvert_exporter": "python",
      "version": "3.6.4",
      "file_extension": ".py",
      "codemirror_mode": {
        "name": "ipython",
        "version": 3
      },
      "name": "python",
      "mimetype": "text/x-python"
    },
    "kaggle": {
      "accelerator": "none",
      "dataSources": [
        {
          "sourceId": 3196104,
          "sourceType": "datasetVersion",
          "datasetId": 1940216
        }
      ],
      "dockerImageVersionId": 30176,
      "isInternetEnabled": false,
      "language": "python",
      "sourceType": "notebook",
      "isGpuEnabled": false
    },
    "colab": {
      "name": "notebook0cfe176bf3",
      "provenance": [],
      "include_colab_link": true
    }
  },
  "nbformat_minor": 0,
  "nbformat": 4,
  "cells": [
    {
      "cell_type": "markdown",
      "metadata": {
        "id": "view-in-github",
        "colab_type": "text"
      },
      "source": [
        "<a href=\"https://colab.research.google.com/github/vinicioaugusto/CE302/blob/main/notebook0cfe176bf3.ipynb\" target=\"_parent\"><img src=\"https://colab.research.google.com/assets/colab-badge.svg\" alt=\"Open In Colab\"/></a>"
      ]
    },
    {
      "source": [
        "# IMPORTANT: RUN THIS CELL IN ORDER TO IMPORT YOUR KAGGLE DATA SOURCES,\n",
        "# THEN FEEL FREE TO DELETE THIS CELL.\n",
        "# NOTE: THIS NOTEBOOK ENVIRONMENT DIFFERS FROM KAGGLE'S PYTHON\n",
        "# ENVIRONMENT SO THERE MAY BE MISSING LIBRARIES USED BY YOUR\n",
        "# NOTEBOOK.\n",
        "import kagglehub\n",
        "vivek468_superstore_dataset_final_path = kagglehub.dataset_download('vivek468/superstore-dataset-final')\n",
        "\n",
        "print('Data source import complete.')\n"
      ],
      "metadata": {
        "id": "FpPV5ECi2RpM"
      },
      "cell_type": "code",
      "outputs": [],
      "execution_count": null
    },
    {
      "cell_type": "markdown",
      "source": [
        "![image.png](attachment:d5148baf-97e5-4b9d-88a2-39642e6d11f7.png)\n",
        "\n",
        "\n",
        "# I tried data analysis to make marketing strategy, which includes\n",
        "* Area analysis\n",
        "* Customer analysis\n",
        "* Product category analysis\n",
        "* Sales and profit time series"
      ],
      "metadata": {
        "id": "UkbpoSMD2RpR"
      }
    },
    {
      "cell_type": "markdown",
      "source": [
        "# -Importing and Data Preprocessing"
      ],
      "metadata": {
        "id": "7I18aK5P2RpU"
      }
    },
    {
      "cell_type": "code",
      "source": [
        "import numpy as np # linear algebra\n",
        "import pandas as pd # data processing, CSV file I/O (e.g. pd.read_csv)\n",
        "\n",
        "import os\n",
        "for dirname, _, filenames in os.walk('/kaggle/input'):\n",
        "    for filename in filenames:\n",
        "        print(os.path.join(dirname, filename))"
      ],
      "metadata": {
        "execution": {
          "iopub.status.busy": "2022-10-25T18:47:34.916844Z",
          "iopub.execute_input": "2022-10-25T18:47:34.917256Z",
          "iopub.status.idle": "2022-10-25T18:47:34.95891Z",
          "shell.execute_reply.started": "2022-10-25T18:47:34.917153Z",
          "shell.execute_reply": "2022-10-25T18:47:34.958051Z"
        },
        "trusted": true,
        "id": "gpGCicyc2RpU"
      },
      "execution_count": null,
      "outputs": []
    },
    {
      "cell_type": "code",
      "source": [
        "%matplotlib inline\n",
        "import matplotlib.pyplot as plt\n",
        "import seaborn as sns\n",
        "import plotly_express as px\n",
        "\n",
        "import datetime\n",
        "\n",
        "import warnings\n",
        "warnings.filterwarnings('ignore')"
      ],
      "metadata": {
        "execution": {
          "iopub.status.busy": "2022-10-25T18:47:34.960424Z",
          "iopub.execute_input": "2022-10-25T18:47:34.960669Z",
          "iopub.status.idle": "2022-10-25T18:47:37.290995Z",
          "shell.execute_reply.started": "2022-10-25T18:47:34.960642Z",
          "shell.execute_reply": "2022-10-25T18:47:37.290008Z"
        },
        "trusted": true,
        "id": "xXG3FYH02RpV"
      },
      "execution_count": null,
      "outputs": []
    },
    {
      "cell_type": "code",
      "source": [
        "df=pd.read_csv('/kaggle/input/superstore-dataset-final/Sample - Superstore.csv',encoding='ISO-8859-1')"
      ],
      "metadata": {
        "execution": {
          "iopub.status.busy": "2022-10-25T18:47:37.292473Z",
          "iopub.execute_input": "2022-10-25T18:47:37.292929Z",
          "iopub.status.idle": "2022-10-25T18:47:37.398238Z",
          "shell.execute_reply.started": "2022-10-25T18:47:37.292859Z",
          "shell.execute_reply": "2022-10-25T18:47:37.397286Z"
        },
        "trusted": true,
        "id": "07FhglFf2RpV"
      },
      "execution_count": null,
      "outputs": []
    },
    {
      "cell_type": "code",
      "source": [
        "df.head()"
      ],
      "metadata": {
        "execution": {
          "iopub.status.busy": "2022-10-25T18:47:37.400298Z",
          "iopub.execute_input": "2022-10-25T18:47:37.400772Z",
          "iopub.status.idle": "2022-10-25T18:47:37.436926Z",
          "shell.execute_reply.started": "2022-10-25T18:47:37.400737Z",
          "shell.execute_reply": "2022-10-25T18:47:37.436178Z"
        },
        "trusted": true,
        "id": "L-N6b9Lp2RpX"
      },
      "execution_count": null,
      "outputs": []
    },
    {
      "cell_type": "code",
      "source": [
        "df.info()"
      ],
      "metadata": {
        "execution": {
          "iopub.status.busy": "2022-10-25T18:47:37.437865Z",
          "iopub.execute_input": "2022-10-25T18:47:37.438241Z",
          "iopub.status.idle": "2022-10-25T18:47:37.467755Z",
          "shell.execute_reply.started": "2022-10-25T18:47:37.438211Z",
          "shell.execute_reply": "2022-10-25T18:47:37.466826Z"
        },
        "trusted": true,
        "id": "z16O6mxT2RpY"
      },
      "execution_count": null,
      "outputs": []
    },
    {
      "cell_type": "code",
      "source": [
        "df['Order Date']=pd.to_datetime(df['Order Date'], format='%m/%d/%Y')\n",
        "df['Ship Date']=pd.to_datetime(df['Ship Date'], format='%m/%d/%Y')"
      ],
      "metadata": {
        "execution": {
          "iopub.status.busy": "2022-10-25T18:47:37.468974Z",
          "iopub.execute_input": "2022-10-25T18:47:37.469218Z",
          "iopub.status.idle": "2022-10-25T18:47:37.49348Z",
          "shell.execute_reply.started": "2022-10-25T18:47:37.469184Z",
          "shell.execute_reply": "2022-10-25T18:47:37.492364Z"
        },
        "trusted": true,
        "id": "asFeOtgk2RpZ"
      },
      "execution_count": null,
      "outputs": []
    },
    {
      "cell_type": "code",
      "source": [
        "df['OrderY']=df['Order Date'].dt.year\n",
        "df['OrderM']=df['Order Date'].dt.month\n",
        "df['OrderD']=df['Order Date'].dt.day"
      ],
      "metadata": {
        "execution": {
          "iopub.status.busy": "2022-10-25T18:47:37.495169Z",
          "iopub.execute_input": "2022-10-25T18:47:37.495839Z",
          "iopub.status.idle": "2022-10-25T18:47:37.50737Z",
          "shell.execute_reply.started": "2022-10-25T18:47:37.495801Z",
          "shell.execute_reply": "2022-10-25T18:47:37.506614Z"
        },
        "trusted": true,
        "id": "2ky-MxNN2Rpa"
      },
      "execution_count": null,
      "outputs": []
    },
    {
      "cell_type": "code",
      "source": [
        "df['Profitability']=df['Profit']/df['Sales']"
      ],
      "metadata": {
        "execution": {
          "iopub.status.busy": "2022-10-25T18:47:37.508925Z",
          "iopub.execute_input": "2022-10-25T18:47:37.509437Z",
          "iopub.status.idle": "2022-10-25T18:47:37.516285Z",
          "shell.execute_reply.started": "2022-10-25T18:47:37.509389Z",
          "shell.execute_reply": "2022-10-25T18:47:37.515012Z"
        },
        "trusted": true,
        "id": "s7wBPZOb2Rpb"
      },
      "execution_count": null,
      "outputs": []
    },
    {
      "cell_type": "markdown",
      "source": [
        "# -Which countries do they have sales?"
      ],
      "metadata": {
        "id": "G_sMYXa92Rpc"
      }
    },
    {
      "cell_type": "code",
      "source": [
        "df.groupby('Country')['Sales'].sum().sort_values(ascending=False).head(20).plot.barh();"
      ],
      "metadata": {
        "_kg_hide-input": true,
        "execution": {
          "iopub.status.busy": "2022-10-25T19:28:21.454147Z",
          "iopub.execute_input": "2022-10-25T19:28:21.454466Z",
          "iopub.status.idle": "2022-10-25T19:28:21.642608Z",
          "shell.execute_reply.started": "2022-10-25T19:28:21.454431Z",
          "shell.execute_reply": "2022-10-25T19:28:21.641676Z"
        },
        "trusted": true,
        "id": "XiPc4y7w2Rpd"
      },
      "execution_count": null,
      "outputs": []
    },
    {
      "cell_type": "markdown",
      "source": [
        "# All the data are in the United States."
      ],
      "metadata": {
        "id": "RhsNdspF2Rpd"
      }
    },
    {
      "cell_type": "markdown",
      "source": [
        "# -Top 20 states by sales"
      ],
      "metadata": {
        "id": "Xyk4gBfX2Rpe"
      }
    },
    {
      "cell_type": "code",
      "source": [
        "colors = ['blue', 'blue', 'blue', 'blue','blue','blue','blue','blue','blue','blue',\n",
        "         'blue', 'blue', 'blue', 'blue','blue','blue','blue','blue','red','red']\n",
        "df.groupby('State')['Sales'].sum().sort_values(ascending=True).tail(20).plot.barh(color=colors);"
      ],
      "metadata": {
        "_kg_hide-input": true,
        "execution": {
          "iopub.status.busy": "2022-10-25T19:29:47.234989Z",
          "iopub.execute_input": "2022-10-25T19:29:47.235315Z",
          "iopub.status.idle": "2022-10-25T19:29:47.565522Z",
          "shell.execute_reply.started": "2022-10-25T19:29:47.235273Z",
          "shell.execute_reply": "2022-10-25T19:29:47.564535Z"
        },
        "trusted": true,
        "id": "LbBz7YTn2Rpe"
      },
      "execution_count": null,
      "outputs": []
    },
    {
      "cell_type": "markdown",
      "source": [
        "# -Top 20 states by profit"
      ],
      "metadata": {
        "id": "_jGK4szt2Rpf"
      }
    },
    {
      "cell_type": "code",
      "source": [
        "colors = ['blue', 'blue', 'blue', 'blue','blue','blue','blue','blue','blue','blue',\n",
        "         'blue', 'blue', 'blue', 'blue','blue','blue','blue','blue','red','red']\n",
        "df.groupby('State')['Profit'].sum().sort_values(ascending=True).tail(20).plot.barh(color=colors);"
      ],
      "metadata": {
        "_kg_hide-input": true,
        "execution": {
          "iopub.status.busy": "2022-10-25T19:30:33.601485Z",
          "iopub.execute_input": "2022-10-25T19:30:33.601818Z",
          "iopub.status.idle": "2022-10-25T19:30:33.941211Z",
          "shell.execute_reply.started": "2022-10-25T19:30:33.601782Z",
          "shell.execute_reply": "2022-10-25T19:30:33.940178Z"
        },
        "trusted": true,
        "id": "hm1JQol72Rpf"
      },
      "execution_count": null,
      "outputs": []
    },
    {
      "cell_type": "markdown",
      "source": [
        "# Two important states are New York and California. New York is more profitable than California."
      ],
      "metadata": {
        "id": "LT8uv3t_2Rpf"
      }
    },
    {
      "cell_type": "markdown",
      "source": [
        "# -What is the difference between New York and California ?"
      ],
      "metadata": {
        "id": "W4Zq-1Un2Rpg"
      }
    },
    {
      "cell_type": "code",
      "source": [
        "df_cal=df[df['State']=='California']\n",
        "df_new=df[df['State']=='New York']"
      ],
      "metadata": {
        "_kg_hide-input": true,
        "execution": {
          "iopub.status.busy": "2022-10-25T18:47:38.569702Z",
          "iopub.execute_input": "2022-10-25T18:47:38.570002Z",
          "iopub.status.idle": "2022-10-25T18:47:38.581692Z",
          "shell.execute_reply.started": "2022-10-25T18:47:38.569966Z",
          "shell.execute_reply": "2022-10-25T18:47:38.580541Z"
        },
        "trusted": true,
        "id": "txVQ4crB2Rpg"
      },
      "execution_count": null,
      "outputs": []
    },
    {
      "cell_type": "markdown",
      "source": [
        "# Sales and Profit scattering by customers of California"
      ],
      "metadata": {
        "id": "sKmfDFOK2Rpg"
      }
    },
    {
      "cell_type": "code",
      "source": [
        "df_cal_customer=pd.DataFrame(df_cal.groupby('Customer Name')['Sales'].sum())\n",
        "df_cal_customer['Profit']=pd.DataFrame(df_cal.groupby('Customer Name')['Profit'].sum())\n",
        "\n",
        "def type(ex):\n",
        "    if ex <0:\n",
        "        return 'red'\n",
        "    else:\n",
        "        return 'black'\n",
        "\n",
        "df_cal_customer.loc[:,'balckorred']=df_cal_customer.loc[:,'Profit'].apply(type)\n",
        "\n",
        "\n",
        "sns.scatterplot(data=df_cal_customer, hue='balckorred',x='Sales',y='Profit')\n",
        "plt.xlim(0, 14000)\n",
        "plt.ylim(-1000, 5000)"
      ],
      "metadata": {
        "_kg_hide-input": true,
        "execution": {
          "iopub.status.busy": "2022-10-25T18:47:38.583265Z",
          "iopub.execute_input": "2022-10-25T18:47:38.583523Z",
          "iopub.status.idle": "2022-10-25T18:47:38.990138Z",
          "shell.execute_reply.started": "2022-10-25T18:47:38.583493Z",
          "shell.execute_reply": "2022-10-25T18:47:38.989129Z"
        },
        "trusted": true,
        "id": "3n-Ip8N52Rpg"
      },
      "execution_count": null,
      "outputs": []
    },
    {
      "cell_type": "markdown",
      "source": [
        "# Sales and Profit scattering by customers of New York"
      ],
      "metadata": {
        "id": "3dWC8vxH2Rph"
      }
    },
    {
      "cell_type": "code",
      "source": [
        "df_new_customer=pd.DataFrame(df_new.groupby('Customer Name')['Sales'].sum())\n",
        "df_new_customer['Profit']=pd.DataFrame(df_new.groupby('Customer Name')['Profit'].sum())\n",
        "\n",
        "def type(ex):\n",
        "    if ex <0:\n",
        "        return 'red'\n",
        "    else:\n",
        "        return 'black'\n",
        "\n",
        "df_new_customer.loc[:,'balckorred']=df_new_customer.loc[:,'Profit'].apply(type)\n",
        "\n",
        "\n",
        "sns.scatterplot(data=df_new_customer, hue='balckorred',x='Sales',y='Profit')\n",
        "plt.xlim(0, 14000)\n",
        "plt.ylim(-1000, 5000)"
      ],
      "metadata": {
        "_kg_hide-input": true,
        "execution": {
          "iopub.status.busy": "2022-10-25T18:47:38.991441Z",
          "iopub.execute_input": "2022-10-25T18:47:38.991679Z",
          "iopub.status.idle": "2022-10-25T18:47:39.345278Z",
          "shell.execute_reply.started": "2022-10-25T18:47:38.991651Z",
          "shell.execute_reply": "2022-10-25T18:47:39.344279Z"
        },
        "trusted": true,
        "id": "1iWxmXot2Rph"
      },
      "execution_count": null,
      "outputs": []
    },
    {
      "cell_type": "markdown",
      "source": [
        "# New York has a outstanding customer which is high sales and profit."
      ],
      "metadata": {
        "id": "s-3aRPw32Rph"
      }
    },
    {
      "cell_type": "markdown",
      "source": [
        "# - What is a outstanding customer in New York?"
      ],
      "metadata": {
        "id": "HizP0Nle2Rph"
      }
    },
    {
      "cell_type": "code",
      "source": [
        "df_new_customer.sort_values(by=['Sales'],ascending=False).head()"
      ],
      "metadata": {
        "execution": {
          "iopub.status.busy": "2022-10-25T18:47:39.346415Z",
          "iopub.execute_input": "2022-10-25T18:47:39.346675Z",
          "iopub.status.idle": "2022-10-25T18:47:39.359641Z",
          "shell.execute_reply.started": "2022-10-25T18:47:39.346645Z",
          "shell.execute_reply": "2022-10-25T18:47:39.358464Z"
        },
        "trusted": true,
        "id": "s9vT3IpP2Rph"
      },
      "execution_count": null,
      "outputs": []
    },
    {
      "cell_type": "markdown",
      "source": [
        "# 'Tom Ashbrook' contributes a lot to high profitability of New York."
      ],
      "metadata": {
        "id": "pXeAwCMm2Rpi"
      }
    },
    {
      "cell_type": "code",
      "source": [
        "#Sales and Profit of California\n",
        "df_cal_customer.describe().T"
      ],
      "metadata": {
        "execution": {
          "iopub.status.busy": "2022-10-25T18:47:39.361726Z",
          "iopub.execute_input": "2022-10-25T18:47:39.36275Z",
          "iopub.status.idle": "2022-10-25T18:47:39.388124Z",
          "shell.execute_reply.started": "2022-10-25T18:47:39.362711Z",
          "shell.execute_reply": "2022-10-25T18:47:39.387138Z"
        },
        "trusted": true,
        "id": "jyW6QYgp2Rpi"
      },
      "execution_count": null,
      "outputs": []
    },
    {
      "cell_type": "code",
      "source": [
        "#Sales and Profit of New York\n",
        "df_new_customer.describe().T"
      ],
      "metadata": {
        "execution": {
          "iopub.status.busy": "2022-10-25T18:47:39.389446Z",
          "iopub.execute_input": "2022-10-25T18:47:39.389783Z",
          "iopub.status.idle": "2022-10-25T18:47:39.411981Z",
          "shell.execute_reply.started": "2022-10-25T18:47:39.389751Z",
          "shell.execute_reply": "2022-10-25T18:47:39.411337Z"
        },
        "trusted": true,
        "id": "ruHe9fJU2Rpi"
      },
      "execution_count": null,
      "outputs": []
    },
    {
      "cell_type": "code",
      "source": [
        "#Sales and Profit of New York without 'Tom Ashbrook'\n",
        "df_new_noTom=df_new_customer[df_new_customer.index != 'Tom Ashbrook']\n",
        "df_new_noTom.describe().T"
      ],
      "metadata": {
        "execution": {
          "iopub.status.busy": "2022-10-25T18:47:39.413157Z",
          "iopub.execute_input": "2022-10-25T18:47:39.413848Z",
          "iopub.status.idle": "2022-10-25T18:47:39.436556Z",
          "shell.execute_reply.started": "2022-10-25T18:47:39.413813Z",
          "shell.execute_reply": "2022-10-25T18:47:39.43563Z"
        },
        "trusted": true,
        "id": "vfP7d26E2Rpj"
      },
      "execution_count": null,
      "outputs": []
    },
    {
      "cell_type": "markdown",
      "source": [
        "# If New York does not have 'Tom Ashbook', their average sales goes down from 749 to 717,and their average profit goes down from 178 to 167.But New York is still more profitable than California."
      ],
      "metadata": {
        "id": "8iUILrGI2Rpj"
      }
    },
    {
      "cell_type": "markdown",
      "source": [
        "# - Are there any difference among states in profitability ?"
      ],
      "metadata": {
        "id": "Ghee4bTI2Rpk"
      }
    },
    {
      "cell_type": "code",
      "source": [
        "df_state=pd.DataFrame(df.groupby('State')['Sales'].sum())\n",
        "df_state['Profit']=pd.DataFrame(df.groupby('State')['Profit'].sum())\n",
        "\n",
        "def type(ex):\n",
        "    if ex <0:\n",
        "        return 'red'\n",
        "    else:\n",
        "        return 'black'\n",
        "\n",
        "df_state.loc[:,'balckorred']=df_state.loc[:,'Profit'].apply(type)\n",
        "\n",
        "sns.scatterplot(data=df_state, hue='balckorred',x='Sales',y='Profit');"
      ],
      "metadata": {
        "_kg_hide-input": true,
        "execution": {
          "iopub.status.busy": "2022-10-25T18:49:02.750061Z",
          "iopub.execute_input": "2022-10-25T18:49:02.75039Z",
          "iopub.status.idle": "2022-10-25T18:49:03.07056Z",
          "shell.execute_reply.started": "2022-10-25T18:49:02.750353Z",
          "shell.execute_reply": "2022-10-25T18:49:03.069274Z"
        },
        "trusted": true,
        "id": "EIPNscyu2Rpk"
      },
      "execution_count": null,
      "outputs": []
    },
    {
      "cell_type": "markdown",
      "source": [
        "# We can divide states to 'Black States'(+proift) and 'Red States'(-profit)."
      ],
      "metadata": {
        "id": "6xkd2zc42Rpl"
      }
    },
    {
      "cell_type": "markdown",
      "source": [
        "# -Top 20 cities by Sales"
      ],
      "metadata": {
        "id": "PD5E4K5j2Rpl"
      }
    },
    {
      "cell_type": "code",
      "source": [
        "colors = ['blue', 'blue', 'blue', 'blue','blue','blue','blue','blue','blue','blue',\n",
        "         'blue', 'blue', 'blue', 'blue','blue','blue','blue','blue','red','red']\n",
        "df.groupby('City')['Sales'].sum().sort_values(ascending=True).tail(20).plot.barh(color=colors);"
      ],
      "metadata": {
        "execution": {
          "iopub.status.busy": "2022-10-25T19:35:01.322247Z",
          "iopub.execute_input": "2022-10-25T19:35:01.322569Z",
          "iopub.status.idle": "2022-10-25T19:35:01.647702Z",
          "shell.execute_reply.started": "2022-10-25T19:35:01.322538Z",
          "shell.execute_reply": "2022-10-25T19:35:01.64679Z"
        },
        "trusted": true,
        "id": "2L04gW412Rpl"
      },
      "execution_count": null,
      "outputs": []
    },
    {
      "cell_type": "markdown",
      "source": [
        "# -Top 20 cities by Profit"
      ],
      "metadata": {
        "id": "qdOfSv6W2Rpm"
      }
    },
    {
      "cell_type": "code",
      "source": [
        "colors = ['blue', 'blue', 'blue', 'blue','blue','blue','blue','blue','blue','blue',\n",
        "         'blue', 'blue', 'blue', 'blue','blue','blue','blue','blue','red','red']\n",
        "df.groupby('City')['Profit'].sum().sort_values(ascending=True).tail(20).plot.barh(color=colors);"
      ],
      "metadata": {
        "execution": {
          "iopub.status.busy": "2022-10-25T19:35:33.145152Z",
          "iopub.execute_input": "2022-10-25T19:35:33.146001Z",
          "iopub.status.idle": "2022-10-25T19:35:33.471644Z",
          "shell.execute_reply.started": "2022-10-25T19:35:33.145957Z",
          "shell.execute_reply": "2022-10-25T19:35:33.47064Z"
        },
        "trusted": true,
        "id": "dja5A7a62Rpr"
      },
      "execution_count": null,
      "outputs": []
    },
    {
      "cell_type": "markdown",
      "source": [
        "# Profitability of New York City is outstanding."
      ],
      "metadata": {
        "id": "BCF1RjH92Rps"
      }
    },
    {
      "cell_type": "markdown",
      "source": [
        "# - Are there any difference among cities in profitability ?"
      ],
      "metadata": {
        "id": "P9KAcJ9M2Rps"
      }
    },
    {
      "cell_type": "code",
      "source": [
        "df_city=pd.DataFrame(df.groupby('City')['Sales'].sum())\n",
        "df_city['Profit']=pd.DataFrame(df.groupby('City')['Profit'].sum())\n",
        "def type(ex):\n",
        "    if ex <0:\n",
        "        return 'red'\n",
        "    else:\n",
        "        return 'black'\n",
        "\n",
        "df_city.loc[:,'balckorred']=df_city.loc[:,'Profit'].apply(type)\n",
        "\n",
        "sns.scatterplot(data=df_city, hue='balckorred',x='Sales',y='Profit');"
      ],
      "metadata": {
        "_kg_hide-input": true,
        "execution": {
          "iopub.status.busy": "2022-10-25T18:49:25.894077Z",
          "iopub.execute_input": "2022-10-25T18:49:25.894382Z",
          "iopub.status.idle": "2022-10-25T18:49:26.257553Z",
          "shell.execute_reply.started": "2022-10-25T18:49:25.894353Z",
          "shell.execute_reply": "2022-10-25T18:49:26.256347Z"
        },
        "trusted": true,
        "id": "j2BWgZ9g2Rpu"
      },
      "execution_count": null,
      "outputs": []
    },
    {
      "cell_type": "markdown",
      "source": [
        "# We can divide cities to 'Black Cities' and 'Red Cities'."
      ],
      "metadata": {
        "id": "RCbX9_Gp2Rpv"
      }
    },
    {
      "cell_type": "markdown",
      "source": [
        "# -Top 20 customers by Sales"
      ],
      "metadata": {
        "id": "rRLEBP452Rpv"
      }
    },
    {
      "cell_type": "code",
      "source": [
        "colors = ['blue', 'blue', 'blue', 'blue','blue','blue','blue','blue','blue','blue',\n",
        "         'blue', 'blue', 'blue', 'blue','blue','blue','blue','blue','red','red']\n",
        "df.groupby('Customer Name')['Sales'].sum().sort_values(ascending=True).tail(20).plot.barh(color=colors);"
      ],
      "metadata": {
        "_kg_hide-input": true,
        "execution": {
          "iopub.status.busy": "2022-10-25T19:36:24.023918Z",
          "iopub.execute_input": "2022-10-25T19:36:24.024213Z",
          "iopub.status.idle": "2022-10-25T19:36:24.353794Z",
          "shell.execute_reply.started": "2022-10-25T19:36:24.024184Z",
          "shell.execute_reply": "2022-10-25T19:36:24.352938Z"
        },
        "trusted": true,
        "id": "Wtq_lhOc2Rpv"
      },
      "execution_count": null,
      "outputs": []
    },
    {
      "cell_type": "markdown",
      "source": [
        "# -Cumulative curve in Sales by Customers"
      ],
      "metadata": {
        "id": "meunkFTa2Rpv"
      }
    },
    {
      "cell_type": "code",
      "source": [
        "plt.figure(figsize=(12,10))\n",
        "df.groupby('Customer Name')['Sales'].sum().sort_values(ascending=False).cumsum().plot();"
      ],
      "metadata": {
        "execution": {
          "iopub.status.busy": "2022-10-25T18:49:44.088812Z",
          "iopub.execute_input": "2022-10-25T18:49:44.089177Z",
          "iopub.status.idle": "2022-10-25T18:49:44.355971Z",
          "shell.execute_reply.started": "2022-10-25T18:49:44.089143Z",
          "shell.execute_reply": "2022-10-25T18:49:44.354906Z"
        },
        "trusted": true,
        "id": "hhFBZ-QE2Rpv"
      },
      "execution_count": null,
      "outputs": []
    },
    {
      "cell_type": "markdown",
      "source": [
        "# -Can we apply Pareto principle to customers and Sales ?"
      ],
      "metadata": {
        "id": "ZB9RbMeW2Rpw"
      }
    },
    {
      "cell_type": "code",
      "source": [
        "df1=pd.DataFrame(df.groupby('Customer Name')['Sales'].sum().sort_values(ascending=False))"
      ],
      "metadata": {
        "execution": {
          "iopub.status.busy": "2022-10-25T18:47:41.408433Z",
          "iopub.execute_input": "2022-10-25T18:47:41.40878Z",
          "iopub.status.idle": "2022-10-25T18:47:41.417706Z",
          "shell.execute_reply.started": "2022-10-25T18:47:41.408745Z",
          "shell.execute_reply": "2022-10-25T18:47:41.416439Z"
        },
        "trusted": true,
        "id": "gy4HJPAu2Rpw"
      },
      "execution_count": null,
      "outputs": []
    },
    {
      "cell_type": "code",
      "source": [
        "df1.quantile(0.7, interpolation='higher')"
      ],
      "metadata": {
        "execution": {
          "iopub.status.busy": "2022-10-25T18:47:41.419711Z",
          "iopub.execute_input": "2022-10-25T18:47:41.420754Z",
          "iopub.status.idle": "2022-10-25T18:47:41.433112Z",
          "shell.execute_reply.started": "2022-10-25T18:47:41.420695Z",
          "shell.execute_reply": "2022-10-25T18:47:41.4319Z"
        },
        "trusted": true,
        "id": "yHcZv8FX2Rpw"
      },
      "execution_count": null,
      "outputs": []
    },
    {
      "cell_type": "code",
      "source": [
        "df1[df1['Sales']>=3288.11].sum()/df['Sales'].sum()"
      ],
      "metadata": {
        "execution": {
          "iopub.status.busy": "2022-10-25T18:47:41.434758Z",
          "iopub.execute_input": "2022-10-25T18:47:41.435109Z",
          "iopub.status.idle": "2022-10-25T18:47:41.448208Z",
          "shell.execute_reply.started": "2022-10-25T18:47:41.435065Z",
          "shell.execute_reply": "2022-10-25T18:47:41.447303Z"
        },
        "trusted": true,
        "id": "tfOqAe1c2Rpw"
      },
      "execution_count": null,
      "outputs": []
    },
    {
      "cell_type": "markdown",
      "source": [
        "# Top 30% occupy 60% of sales!"
      ],
      "metadata": {
        "id": "oKwtxm8C2Rpw"
      }
    },
    {
      "cell_type": "markdown",
      "source": [
        "# -Top 20 customers by Profit"
      ],
      "metadata": {
        "id": "KiECJXPG2Rpx"
      }
    },
    {
      "cell_type": "code",
      "source": [
        "colors = ['blue', 'blue', 'blue', 'blue','blue','blue','blue','blue','blue','blue',\n",
        "         'blue', 'blue', 'blue', 'blue','blue','blue','blue','blue','red','red']\n",
        "df.groupby('Customer Name')['Profit'].sum().sort_values(ascending=True).tail(20).plot.barh(color=colors);"
      ],
      "metadata": {
        "_kg_hide-input": true,
        "execution": {
          "iopub.status.busy": "2022-10-25T19:37:06.787762Z",
          "iopub.execute_input": "2022-10-25T19:37:06.788068Z",
          "iopub.status.idle": "2022-10-25T19:37:07.120538Z",
          "shell.execute_reply.started": "2022-10-25T19:37:06.788038Z",
          "shell.execute_reply": "2022-10-25T19:37:07.119641Z"
        },
        "trusted": true,
        "id": "PGnn_zgF2Rpx"
      },
      "execution_count": null,
      "outputs": []
    },
    {
      "cell_type": "markdown",
      "source": [
        "# -Cumulative curve in Profit by Customers"
      ],
      "metadata": {
        "id": "P-knf8hB2Rpx"
      }
    },
    {
      "cell_type": "code",
      "source": [
        "plt.figure(figsize=(12,10))\n",
        "df.groupby('Customer Name')['Profit'].sum().sort_values(ascending=False).cumsum().plot();"
      ],
      "metadata": {
        "execution": {
          "iopub.status.busy": "2022-10-25T18:50:02.851837Z",
          "iopub.execute_input": "2022-10-25T18:50:02.852192Z",
          "iopub.status.idle": "2022-10-25T18:50:03.133751Z",
          "shell.execute_reply.started": "2022-10-25T18:50:02.852157Z",
          "shell.execute_reply": "2022-10-25T18:50:03.132742Z"
        },
        "trusted": true,
        "id": "s_GswGLP2Rpy"
      },
      "execution_count": null,
      "outputs": []
    },
    {
      "cell_type": "markdown",
      "source": [
        "# -Can we apply Pareto principle to customers and Profit ?"
      ],
      "metadata": {
        "id": "IEiE-Z4-2Rpy"
      }
    },
    {
      "cell_type": "code",
      "source": [
        "df2=pd.DataFrame(df.groupby('Customer Name')['Profit'].sum().sort_values(ascending=False))"
      ],
      "metadata": {
        "execution": {
          "iopub.status.busy": "2022-10-25T18:47:42.093148Z",
          "iopub.execute_input": "2022-10-25T18:47:42.093473Z",
          "iopub.status.idle": "2022-10-25T18:47:42.102751Z",
          "shell.execute_reply.started": "2022-10-25T18:47:42.093432Z",
          "shell.execute_reply": "2022-10-25T18:47:42.101642Z"
        },
        "trusted": true,
        "id": "WjGtFogC2Rpz"
      },
      "execution_count": null,
      "outputs": []
    },
    {
      "cell_type": "code",
      "source": [
        "df2.quantile(0.7, interpolation='higher')"
      ],
      "metadata": {
        "execution": {
          "iopub.status.busy": "2022-10-25T18:47:42.104289Z",
          "iopub.execute_input": "2022-10-25T18:47:42.104749Z",
          "iopub.status.idle": "2022-10-25T18:47:42.114916Z",
          "shell.execute_reply.started": "2022-10-25T18:47:42.104705Z",
          "shell.execute_reply": "2022-10-25T18:47:42.114033Z"
        },
        "trusted": true,
        "id": "qd_iBmty2Rp0"
      },
      "execution_count": null,
      "outputs": []
    },
    {
      "cell_type": "code",
      "source": [
        "df2[df2['Profit']>=463.269].sum()/df['Profit'].sum()"
      ],
      "metadata": {
        "execution": {
          "iopub.status.busy": "2022-10-25T18:47:42.116271Z",
          "iopub.execute_input": "2022-10-25T18:47:42.116998Z",
          "iopub.status.idle": "2022-10-25T18:47:42.130621Z",
          "shell.execute_reply.started": "2022-10-25T18:47:42.116962Z",
          "shell.execute_reply": "2022-10-25T18:47:42.129949Z"
        },
        "trusted": true,
        "id": "giIJAMd_2Rp0"
      },
      "execution_count": null,
      "outputs": []
    },
    {
      "cell_type": "markdown",
      "source": [
        "# Top 30% occupy 97% of Profit! It means that how we can manage top 30% profit customers is very important !"
      ],
      "metadata": {
        "id": "RpcVI-Tm2Rp0"
      }
    },
    {
      "cell_type": "markdown",
      "source": [
        "# - Are there any difference among customers in profitability ?"
      ],
      "metadata": {
        "id": "NT4kLuEL2Rp0"
      }
    },
    {
      "cell_type": "code",
      "source": [
        "df_customer=pd.DataFrame(df.groupby('Customer Name')['Sales'].sum())\n",
        "df_customer['Profit']=pd.DataFrame(df.groupby('Customer Name')['Profit'].sum())\n",
        "\n",
        "def type(ex):\n",
        "    if ex <0:\n",
        "        return 'red'\n",
        "    else:\n",
        "        return 'black'\n",
        "\n",
        "df_customer.loc[:,'balckorred']=df_customer.loc[:,'Profit'].apply(type)\n",
        "\n",
        "sns.scatterplot(data=df_customer, hue='balckorred',x='Sales',y='Profit');"
      ],
      "metadata": {
        "execution": {
          "iopub.status.busy": "2022-10-25T18:50:13.035936Z",
          "iopub.execute_input": "2022-10-25T18:50:13.036237Z",
          "iopub.status.idle": "2022-10-25T18:50:13.403993Z",
          "shell.execute_reply.started": "2022-10-25T18:50:13.036207Z",
          "shell.execute_reply": "2022-10-25T18:50:13.402936Z"
        },
        "trusted": true,
        "id": "OkvlWEnT2Rp0"
      },
      "execution_count": null,
      "outputs": []
    },
    {
      "cell_type": "markdown",
      "source": [
        "# One of problems is that top1 sales customer is in negative profit. So how we can turn it to positive is very important."
      ],
      "metadata": {
        "id": "QiCvY0UX2Rp1"
      }
    },
    {
      "cell_type": "markdown",
      "source": [
        "# -Sales by Categories"
      ],
      "metadata": {
        "id": "8ozq0k-Z2Rp1"
      }
    },
    {
      "cell_type": "code",
      "source": [
        "df.groupby('Category')['Sales'].sum().sort_values(ascending=True).plot.barh();"
      ],
      "metadata": {
        "execution": {
          "iopub.status.busy": "2022-10-25T19:37:54.666151Z",
          "iopub.execute_input": "2022-10-25T19:37:54.666433Z",
          "iopub.status.idle": "2022-10-25T19:37:54.878472Z",
          "shell.execute_reply.started": "2022-10-25T19:37:54.666404Z",
          "shell.execute_reply": "2022-10-25T19:37:54.876732Z"
        },
        "trusted": true,
        "id": "nS3OUGQj2Rp2"
      },
      "execution_count": null,
      "outputs": []
    },
    {
      "cell_type": "markdown",
      "source": [
        "# -Profit by Categories"
      ],
      "metadata": {
        "id": "mVxBSt462Rp2"
      }
    },
    {
      "cell_type": "code",
      "source": [
        "df.groupby('Category')['Profit'].sum().sort_values(ascending=True).plot.barh();"
      ],
      "metadata": {
        "execution": {
          "iopub.status.busy": "2022-10-25T19:38:15.176754Z",
          "iopub.execute_input": "2022-10-25T19:38:15.177712Z",
          "iopub.status.idle": "2022-10-25T19:38:15.386572Z",
          "shell.execute_reply.started": "2022-10-25T19:38:15.177662Z",
          "shell.execute_reply": "2022-10-25T19:38:15.385902Z"
        },
        "trusted": true,
        "id": "BiqHleG52Rp2"
      },
      "execution_count": null,
      "outputs": []
    },
    {
      "cell_type": "code",
      "source": [
        "df_category=pd.DataFrame(df.groupby('Category')['Sales'].sum())\n",
        "df_category['Profit']=pd.DataFrame(df.groupby('Category')['Profit'].sum())\n",
        "df_category.plot.scatter(x='Sales',y='Profit');"
      ],
      "metadata": {
        "execution": {
          "iopub.status.busy": "2022-10-25T18:50:29.456027Z",
          "iopub.execute_input": "2022-10-25T18:50:29.457029Z",
          "iopub.status.idle": "2022-10-25T18:50:29.704276Z",
          "shell.execute_reply.started": "2022-10-25T18:50:29.456969Z",
          "shell.execute_reply": "2022-10-25T18:50:29.703131Z"
        },
        "trusted": true,
        "id": "YUcBJi062Rp3"
      },
      "execution_count": null,
      "outputs": []
    },
    {
      "cell_type": "markdown",
      "source": [
        "# Office Supplies is most profitable !"
      ],
      "metadata": {
        "id": "LGYmnOXv2Rp3"
      }
    },
    {
      "cell_type": "markdown",
      "source": [
        "# -Sub Categories by Sales"
      ],
      "metadata": {
        "id": "GpX-RsCD2Rp3"
      }
    },
    {
      "cell_type": "code",
      "source": [
        "colors = ['red', 'red', 'blue', 'blue','blue','blue','blue','blue','yellow','yellow',\n",
        "         'yellow', 'yellow', 'yellow', 'yellow','yellow','yellow','yellow']\n",
        "df.groupby('Sub-Category')['Sales'].sum().sort_values(ascending=False).plot.bar(color=colors);"
      ],
      "metadata": {
        "_kg_hide-input": true,
        "execution": {
          "iopub.status.busy": "2022-10-25T18:50:38.924562Z",
          "iopub.execute_input": "2022-10-25T18:50:38.925542Z",
          "iopub.status.idle": "2022-10-25T18:50:39.174723Z",
          "shell.execute_reply.started": "2022-10-25T18:50:38.925413Z",
          "shell.execute_reply": "2022-10-25T18:50:39.173513Z"
        },
        "trusted": true,
        "id": "LIxUJVgx2Rp4"
      },
      "execution_count": null,
      "outputs": []
    },
    {
      "cell_type": "markdown",
      "source": [
        "# -Sub Categories by Profit"
      ],
      "metadata": {
        "id": "cNDZXRX42Rp4"
      }
    },
    {
      "cell_type": "code",
      "source": [
        "colors = ['red', 'red', 'blue', 'blue','blue','blue','blue','blue','yellow','yellow',\n",
        "         'yellow', 'yellow', 'yellow', 'yellow','yellow','yellow','yellow']\n",
        "df.groupby('Sub-Category')['Profit'].sum().sort_values(ascending=False).plot.bar(color=colors);"
      ],
      "metadata": {
        "_kg_hide-input": true,
        "execution": {
          "iopub.status.busy": "2022-10-25T18:50:47.185808Z",
          "iopub.execute_input": "2022-10-25T18:50:47.186166Z",
          "iopub.status.idle": "2022-10-25T18:50:47.439502Z",
          "shell.execute_reply.started": "2022-10-25T18:50:47.18613Z",
          "shell.execute_reply": "2022-10-25T18:50:47.438841Z"
        },
        "trusted": true,
        "id": "39evmI4H2Rp4"
      },
      "execution_count": null,
      "outputs": []
    },
    {
      "cell_type": "markdown",
      "source": [
        "# - Are there any difference among sub categories in profitability ?"
      ],
      "metadata": {
        "id": "nS0kQCrJ2Rp4"
      }
    },
    {
      "cell_type": "code",
      "source": [
        "df_subcategory=pd.DataFrame(df.groupby('Sub-Category')['Sales'].sum())\n",
        "df_subcategory['Profit']=pd.DataFrame(df.groupby('Sub-Category')['Profit'].sum())\n",
        "\n",
        "def type(ex):\n",
        "    if ex <0:\n",
        "        return 'red'\n",
        "    else:\n",
        "        return 'black'\n",
        "\n",
        "df_subcategory.loc[:,'balckorred']=df_subcategory.loc[:,'Profit'].apply(type)\n",
        "\n",
        "sns.scatterplot(data=df_subcategory, hue='balckorred',x='Sales',y='Profit');"
      ],
      "metadata": {
        "_kg_hide-input": true,
        "execution": {
          "iopub.status.busy": "2022-10-25T18:50:57.17328Z",
          "iopub.execute_input": "2022-10-25T18:50:57.173585Z",
          "iopub.status.idle": "2022-10-25T18:50:57.68202Z",
          "shell.execute_reply.started": "2022-10-25T18:50:57.173555Z",
          "shell.execute_reply": "2022-10-25T18:50:57.681035Z"
        },
        "trusted": true,
        "id": "tpfmv8_Q2Rp5"
      },
      "execution_count": null,
      "outputs": []
    },
    {
      "cell_type": "markdown",
      "source": [
        "# -Time Series Analysis"
      ],
      "metadata": {
        "id": "YKFYEMFi2Rp7"
      }
    },
    {
      "cell_type": "code",
      "source": [
        "df.groupby('OrderY')['Sales'].sum().plot.barh();"
      ],
      "metadata": {
        "execution": {
          "iopub.status.busy": "2022-10-25T19:39:19.336197Z",
          "iopub.execute_input": "2022-10-25T19:39:19.336898Z",
          "iopub.status.idle": "2022-10-25T19:39:19.553035Z",
          "shell.execute_reply.started": "2022-10-25T19:39:19.336845Z",
          "shell.execute_reply": "2022-10-25T19:39:19.552197Z"
        },
        "trusted": true,
        "id": "t2mfnMww2Rp7"
      },
      "execution_count": null,
      "outputs": []
    },
    {
      "cell_type": "code",
      "source": [
        "df.groupby('OrderY')['Profit'].sum().plot.barh();"
      ],
      "metadata": {
        "execution": {
          "iopub.status.busy": "2022-10-25T19:39:32.57425Z",
          "iopub.execute_input": "2022-10-25T19:39:32.574548Z",
          "iopub.status.idle": "2022-10-25T19:39:32.77017Z",
          "shell.execute_reply.started": "2022-10-25T19:39:32.574518Z",
          "shell.execute_reply": "2022-10-25T19:39:32.769222Z"
        },
        "trusted": true,
        "id": "ApsYaIMz2Rp8"
      },
      "execution_count": null,
      "outputs": []
    },
    {
      "cell_type": "markdown",
      "source": [
        "# Sales and Profit has been growing year by year."
      ],
      "metadata": {
        "id": "22vMaXeu2Rp8"
      }
    },
    {
      "cell_type": "code",
      "source": [
        "plt.figure(figsize=(20,5))\n",
        "df.groupby(['OrderY','OrderM'])['Sales'].sum().plot();"
      ],
      "metadata": {
        "execution": {
          "iopub.status.busy": "2022-10-25T18:51:18.131699Z",
          "iopub.execute_input": "2022-10-25T18:51:18.132328Z",
          "iopub.status.idle": "2022-10-25T18:51:18.381649Z",
          "shell.execute_reply.started": "2022-10-25T18:51:18.132271Z",
          "shell.execute_reply": "2022-10-25T18:51:18.380678Z"
        },
        "trusted": true,
        "id": "m_-qBzdo2Rp8"
      },
      "execution_count": null,
      "outputs": []
    },
    {
      "cell_type": "code",
      "source": [
        "plt.figure(figsize=(20,5))\n",
        "df.groupby(['OrderY','OrderM'])['Profit'].sum().plot();"
      ],
      "metadata": {
        "execution": {
          "iopub.status.busy": "2022-10-25T18:51:23.403577Z",
          "iopub.execute_input": "2022-10-25T18:51:23.404215Z",
          "iopub.status.idle": "2022-10-25T18:51:23.637379Z",
          "shell.execute_reply.started": "2022-10-25T18:51:23.404171Z",
          "shell.execute_reply": "2022-10-25T18:51:23.636718Z"
        },
        "trusted": true,
        "id": "ygZ7vvW92Rp8"
      },
      "execution_count": null,
      "outputs": []
    },
    {
      "cell_type": "markdown",
      "source": [
        "# Next Step is that\n",
        "* Considering and make a decition about how we can prioritize states and cities.\n",
        "* Considering and make a decition about how we can prioritize customers.\n",
        "* Considering and make a decition about how we can prioritize product.\n",
        "to grow sales and improve profitability.\n",
        "\n",
        "And we may be able to forcast sales and profit with time series analysis."
      ],
      "metadata": {
        "id": "Zvt78Idz2Rp9"
      }
    },
    {
      "cell_type": "markdown",
      "source": [
        "Thank you!"
      ],
      "metadata": {
        "id": "eWt4wXcD2Rp9"
      }
    },
    {
      "cell_type": "code",
      "source": [],
      "metadata": {
        "id": "jnSpaSHE2Rp-"
      },
      "execution_count": null,
      "outputs": []
    }
  ]
}